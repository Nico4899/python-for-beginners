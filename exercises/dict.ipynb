{
 "cells": [
  {
   "cell_type": "markdown",
   "metadata": {},
   "source": [
    "## Python Dictionaries\n",
    "A dictionary is an unordered set of `key:value` pairs.\n",
    "It provides a way to map pieces of data to each other so that we can quickly find values that are associated with one another."
   ]
  },
  {
   "cell_type": "markdown",
   "metadata": {},
   "source": [
    "### Creating a Dictionary\n",
    "For example we can create a dictionary called `person` to store this data:\n",
    "```python\n",
    "person = {\n",
    "    \"name\": \"John\",\n",
    "    \"age\": 36,\n",
    "    \"country\": \"Norway\"\n",
    "}\n",
    "```\n",
    "Notice that:\n",
    "1. A dictionary begins and ends with curly braces `{` and `}`.\n",
    "2. Each item consists of a key (`\"age\"`) and a value (`36`).\n",
    "3. Each `key:value` pair is seperated by comma."
   ]
  },
  {
   "cell_type": "markdown",
   "metadata": {},
   "source": [
    "#### Exercise 1\n",
    "Create a dictionary called `translations` that maps the following words in English to their definitions in Italian.\n",
    "\n",
    "| English      | Italian        |\n",
    "|------------- | ---------------|\n",
    "| hello        | ciao           |\n",
    "| mountain     | montagna       |\n",
    "| cat          | gatto          |\n",
    "| water        | acqua          |\n",
    "\n",
    "If you are done, print the dictionary at the end."
   ]
  },
  {
   "cell_type": "code",
   "execution_count": 4,
   "metadata": {
    "ExecuteTime": {
     "end_time": "2023-07-12T18:51:51.267235Z",
     "start_time": "2023-07-12T18:51:51.263563Z"
    }
   },
   "outputs": [
    {
     "name": "stdout",
     "output_type": "stream",
     "text": [
      "{'hello': 'ciao', 'mountain': 'montagna', 'cat': 'gatto', 'water': 'acqua'}\n"
     ]
    }
   ],
   "source": [
    "# Write your code after this line\n",
    "\n",
    "\n",
    "\n",
    "# Solution to excercise 1\n",
    "translations = {\n",
    "    \"hello\": \"ciao\",\n",
    "    \"mountain\": \"montagna\",\n",
    "    \"cat\": \"gatto\",\n",
    "    \"water\": \"acqua\"\n",
    "}\n",
    "\n",
    "print(translations)"
   ]
  },
  {
   "cell_type": "markdown",
   "metadata": {},
   "source": [
    "### Add a key\n",
    "To add a single ``key:value`` pair to a dictionary, we can use the syntax:\n",
    "``` python\n",
    "dictonary[key] = value\n",
    "```\n",
    "For example, if we had our `person` dictonary from the beginning, and we wanted to add a new item, `\"shopping_list\"`, we could use:\n",
    "``` python\n",
    "person[\"shopping_list\"] = [\"bread\", \"butter\", \"milk\"]\n",
    "```\n",
    "Now, `person` looks like:\n",
    "``` python\n",
    "{\"name\": \"John\", \"age\": 36, \"country\": \"Norway\", \"shopping_list\": [\"bread\", \"butter\", \"milk\"]}\n",
    "```"
   ]
  },
  {
   "cell_type": "markdown",
   "metadata": {},
   "source": [
    "#### Excercise 2\n",
    "1. Create an empty dictionary called ``animals_in_zoo``.\n",
    "2. Walking around the zoo, you see 8 zebras. Add `\"zebras\"` to the dictonary animals_in_zoo as a key with a value of ``8``. \n",
    "3. As you leave the zoo, you are saddened that you did not see any dinosaurs. Add ``\"dinosaurs\"`` to animals_in_zoo as a key with a value of ``0``.\n",
    "4. Print animals_in_zoo"
   ]
  },
  {
   "cell_type": "code",
   "execution_count": 1,
   "metadata": {},
   "outputs": [
    {
     "name": "stdout",
     "output_type": "stream",
     "text": [
      "{'zebras': 8, 'dinosaurs': 0}\n"
     ]
    }
   ],
   "source": [
    "# Write your code after this line\n",
    "\n",
    "\n",
    "\n",
    "# Solution to excercise 2\n",
    "animals_in_zoo = {\n",
    "    \"zebras\": 8,\n",
    "    \"dinosaurs\": 0\n",
    "}\n",
    "\n",
    "print(animals_in_zoo)"
   ]
  },
  {
   "cell_type": "markdown",
   "metadata": {},
   "source": [
    "### Accessing Items\n",
    "You can access the items of a dictionary by referring to its key name, inside square brackets:\n",
    "```python\n",
    "x = person[\"age\"]\n",
    "```"
   ]
  },
  {
   "cell_type": "markdown",
   "metadata": {},
   "source": [
    "### Change Values\n",
    "You can change the value of a specific item by referring to its key name:\n",
    "```python\n",
    "person[\"age\"] = 40\n",
    "```"
   ]
  },
  {
   "cell_type": "markdown",
   "metadata": {},
   "source": [
    "### Add new Items\n",
    "Add a new key value pair to the dictionary:\n",
    "```python\n",
    "person[\"city\"] = \"Oslo\"\n",
    "```"
   ]
  },
  {
   "cell_type": "markdown",
   "metadata": {},
   "source": [
    "### Remove Items\n",
    "To remove a key value pair in use the del keyword:\n",
    "```python\n",
    "del person[\"age\"]\n",
    "```"
   ]
  },
  {
   "cell_type": "markdown",
   "metadata": {},
   "source": [
    "## Exercise 2 - Changing Values\n",
    "Create a dictionary of mobile contact information. The key is the name of the person and the value is the phone number. Should the phone number be stores as a string or a number ? Now add two contacts to the dictionary. Print the dictionary.\n",
    "Change the phone number of one of the second contact. Print the dictionary again."
   ]
  },
  {
   "cell_type": "code",
   "execution_count": 2,
   "metadata": {
    "ExecuteTime": {
     "end_time": "2023-07-12T18:51:51.292606Z",
     "start_time": "2023-07-12T18:51:51.267696Z"
    }
   },
   "outputs": [
    {
     "name": "stdout",
     "output_type": "stream",
     "text": [
      "Contacts: {'John': '076146123321', 'Jane': '004921395325'}\n",
      "Contacts after move: {'John': '076146123321', 'Jane': '0044123456789'}\n"
     ]
    }
   ],
   "source": [
    "# Creating the contacts dictionary\n",
    "contacts={\n",
    "    \"John\":\"076146123321\",\n",
    "    \"Jane\":\"004921395325\"\n",
    "}\n",
    "print(\"Contacts:\",contacts)\n",
    "#Change Janes number after she moved to the UK\n",
    "contacts[\"Jane\"]=\"0044123456789\"\n",
    "print(\"Contacts after move:\",contacts)\n"
   ]
  }
 ],
 "metadata": {
  "kernelspec": {
   "display_name": "base",
   "language": "python",
   "name": "python3"
  },
  "language_info": {
   "codemirror_mode": {
    "name": "ipython",
    "version": 3
   },
   "file_extension": ".py",
   "mimetype": "text/x-python",
   "name": "python",
   "nbconvert_exporter": "python",
   "pygments_lexer": "ipython3",
   "version": "3.11.0"
  },
  "orig_nbformat": 4
 },
 "nbformat": 4,
 "nbformat_minor": 2
}
