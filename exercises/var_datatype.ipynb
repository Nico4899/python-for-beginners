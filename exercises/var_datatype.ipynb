{
 "cells": [
  {
   "cell_type": "markdown",
   "source": [
    "# Variables and Data Types\n"
   ],
   "metadata": {
    "collapsed": false
   }
  },
  {
   "cell_type": "markdown",
   "source": [
    "## Variables\n",
    "Variables help use to store information in our code and be able to reuse things.\n",
    "```py\n",
    "firstName = \"Gertrud\"\n",
    "lastName = \"Zimmermann\"\n",
    "print(firstName)\n",
    "print(lastName)\n",
    "```\n",
    "```pycon\n",
    "Gertrud\n",
    "Zimmermann\n",
    "```"
   ],
   "metadata": {
    "collapsed": false
   }
  },
  {
   "cell_type": "markdown",
   "source": [
    "## Exercise 1:\n",
    "Save your first name, last name and age as strings/numbers in variables called\n",
    "- ``first_name``\n",
    "- ``last_name``\n",
    "- ``age``\n",
    "\n",
    "and print each variable."
   ],
   "metadata": {
    "collapsed": false
   }
  },
  {
   "cell_type": "code",
   "execution_count": null,
   "outputs": [],
   "source": [
    "# write your code below this line:\n",
    "first_name = \"Hildegard\"\n",
    "last_name = \"Müller\"\n",
    "age = 65\n",
    "print(first_name)\n",
    "print(last_name)\n",
    "print(age)"
   ],
   "metadata": {
    "collapsed": false
   }
  },
  {
   "cell_type": "markdown",
   "source": [
    "## Printing multiple variables I\n",
    "We can print multiple variables in one print command by seperating variables with commas:\n",
    "```python\n",
    "print(firstName, lastName)\n",
    "```\n",
    "```pycon\n",
    "Gertrud Zimmermann\n",
    "```"
   ],
   "metadata": {
    "collapsed": false
   }
  },
  {
   "cell_type": "markdown",
   "source": [
    "## Exercise 2:\n",
    "Print your first and last name in one line using the variables `first_name` and `last_name` you assigned in `Exercise 1`."
   ],
   "metadata": {
    "collapsed": false
   }
  },
  {
   "cell_type": "code",
   "execution_count": null,
   "outputs": [],
   "source": [
    "# write your code below this line:\n",
    "print(first_name, last_name)"
   ],
   "metadata": {
    "collapsed": false
   }
  },
  {
   "cell_type": "markdown",
   "source": [
    "## Printing multiple variables II\n",
    "We can print Strings together with variables in one print command:\n",
    "\n",
    "```python\n",
    "print(\"I am\", firstName, lastName)\n",
    "```\n",
    "```pycon\n",
    "I am Gertrud Zimmermann\n",
    "```"
   ],
   "metadata": {
    "collapsed": false
   }
  },
  {
   "cell_type": "markdown",
   "metadata": {},
   "source": [
    "## Exercise 3:\n",
    "Introduce yourself by printing:\n",
    "\n",
    "``Hi! My name is <your name> and I am <your age> years old.``\n",
    "\n",
    "Use the variables you assigned in `Exercise 1`!\n"
   ]
  },
  {
   "cell_type": "code",
   "execution_count": null,
   "metadata": {
    "vscode": {
     "languageId": "plaintext"
    }
   },
   "outputs": [],
   "source": [
    "# write your code below this line\n",
    "print(\"Hi! My name is\", first_name, last_name, \"and I am\", age, \"years old.\")\n",
    "# or with string concatenation:\n",
    "print(\"Hi! My name is\", first_name + ' ' + last_name, \"and I am\", age, \"years old.\")"
   ]
  },
  {
   "cell_type": "markdown",
   "source": [
    "## Data types\n",
    "There are 3 different data types in python:\n",
    "- Strings: represent text (`\"hi\"`)\n",
    "- Integers: represent whole numbers (`2010`)\n",
    "- Floats: represent floating point numbers (`99.99`)"
   ],
   "metadata": {
    "collapsed": false
   }
  },
  {
   "cell_type": "markdown",
   "metadata": {},
   "source": [
    "## Exercise 4:\n",
    "\n",
    "Match the following values to the right data types:\n",
    "#### Values\n",
    "```python\n",
    "\"hello world\"\n",
    "100.111\n",
    "100\n",
    "# now assign the rest of the values!\n",
    "101235.5\n",
    "46\n",
    "\"505\"\n",
    "0.0\n",
    "10\n",
    "\"c\"\n",
    "```"
   ]
  },
  {
   "cell_type": "code",
   "execution_count": null,
   "metadata": {},
   "outputs": [],
   "source": [
    "# assign the values from above to the right variables\n",
    "string_1 = \"hello world\"\n",
    "string_2 = ?\n",
    "string_3 = ?\n",
    "\n",
    "integer_1 = 100\n",
    "integer_2 = ?\n",
    "integer_3 = ?\n",
    "\n",
    "float_1 = 101235.5\n",
    "float_2 = ?\n",
    "float_3 = ?\n"
   ]
  },
  {
   "cell_type": "markdown",
   "source": [
    "## Data Types II\n",
    "An example of assigning values to variables:\n",
    "```python\n",
    "standard_müsli_price = 0.99 #price in euros as a float\n",
    "```"
   ],
   "metadata": {
    "collapsed": false
   }
  },
  {
   "cell_type": "markdown",
   "source": [
    "## Exercise 5:\n",
    "You are going shopping later tonight and want to purchase two different Müslis:\n",
    "- Kölln Müsli\n",
    "    - price: 1.99\n",
    "    - quantity: 1\n",
    "    - name: \"Koelln Müsli\"\n",
    "- Seitenbacher Müsli\n",
    "    - price: 5.49\n",
    "    - quantity: 2\n",
    "    - name: \"Seitenbacher Müsli\"\n",
    "\n",
    "Save the price, quantity and name of the two Müslis in variables with fitting names.\n"
   ],
   "metadata": {
    "collapsed": false
   }
  },
  {
   "cell_type": "code",
   "execution_count": null,
   "outputs": [],
   "source": [
    "# write your code below this line\n"
   ],
   "metadata": {
    "collapsed": false
   }
  },
  {
   "cell_type": "markdown",
   "source": [],
   "metadata": {
    "collapsed": false
   }
  },
  {
   "cell_type": "markdown",
   "source": [
    "## Bonus exercises"
   ],
   "metadata": {
    "collapsed": false
   }
  },
  {
   "cell_type": "markdown",
   "metadata": {},
   "source": [
    "### Exercise 6:\n",
    "\n",
    "You are currently standing in aldi in front of the Müslis and want to get the best price per kilogram.\n",
    "Calculate the price-per-kilogram ratio and then print them.\n",
    "\n",
    "```python\n",
    "köln_müsli_kgram = 0.5\n",
    "seitenbacher_müsli_kgram = 1\n",
    "\n",
    "köln_müsli_price = 1.99\n",
    "seitenbacher_müsli_price = 5.49\n",
    "```\n",
    "<div style=\"display: flex; align-items: flex-start\">\n",
    "  <img height=\"200\" src=\"../pictures/variables-and-datatypes/koelln.png\" style=\"width: 50%;\"/>\n",
    "  <img height=\"200\" src=\"../pictures/variables-and-datatypes/spacer.png\" style=\"width: 50%;\"/>\n",
    "  <img height=\"200\" src=\"../pictures/variables-and-datatypes/seitenbacher.png\" style=\"width: 50%;\" />\n",
    "</div>\n",
    "\n"
   ]
  },
  {
   "cell_type": "code",
   "execution_count": null,
   "metadata": {},
   "outputs": [],
   "source": [
    "# do not change this part of the code!\n",
    "köln_müsli_kgram = 0.5\n",
    "seitenbacher_müsli_kgram = 1\n",
    "\n",
    "köln_müsli_price = 1.99\n",
    "seitenbacher_müsli_price = 5.49\n",
    "\n",
    "# write your code below this line\n",
    "\n",
    "köln_ratio = köln_müsli_price / köln_müsli_kgram\n",
    "seitenbacher_ratio = seitenbacher_müsli_price / seitenbacher_müsli_kgram\n",
    "\n",
    "print('Kölln: ' + str(köln_ratio))\n",
    "print('Seitenbacher: ' + str(seitenbacher_ratio))"
   ]
  },
  {
   "cell_type": "markdown",
   "metadata": {},
   "source": [
    "### Exercise 6: \n",
    "\n",
    "# Picture of grain of rice on a chess borad !\n",
    "\n",
    "In a kingdom ruled by a generous but unsuspecting king, a clever man cunningly requested a favor. Sensing an opportunity, he asked for a grain of rice on the first square of a chessboard, doubling it for each subsequent square. Guessing the total amount will be around 2 multiplied by 64, the king agreed. As the rice was placed, its quantity grew exponentially. When the man revealed the astounding total, the king realized he had unknowingly fallen prey to the man's clever exploitation of exponential growth. A valuable lesson was learned about the consequences of granting wishes without understanding their true nature.\n",
    "\n",
    "Calculate the the number of grain of rice the king expected (2 multiplied by 64) and print that out.\n",
    "\n",
    "Then calculate 2 to the power of 64 and print it out."
   ]
  },
  {
   "cell_type": "code",
   "execution_count": null,
   "metadata": {},
   "outputs": [],
   "source": [
    "print(2*64)\n",
    "\n",
    "print(2**64)"
   ]
  },
  {
   "cell_type": "markdown",
   "metadata": {},
   "source": [
    "### Exercise 7:\n",
    "\n",
    "Booleans!!!"
   ]
  }
 ],
 "metadata": {
  "kernelspec": {
   "display_name": "Python 3",
   "language": "python",
   "name": "python3"
  },
  "language_info": {
   "codemirror_mode": {
    "name": "ipython",
    "version": 3
   },
   "file_extension": ".py",
   "mimetype": "text/x-python",
   "name": "python",
   "nbconvert_exporter": "python",
   "pygments_lexer": "ipython3",
   "version": "3.8.5"
  }
 },
 "nbformat": 4,
 "nbformat_minor": 2
}
