{
 "cells": [
  {
   "cell_type": "markdown",
   "source": [
    "# Variables\n",
    "Variables help use to store information in our code and be able to reuse things.\n",
    "```py\n",
    "myName = \"Gertrud\"\n",
    "print(myName)\n",
    "```\n",
    "```pycon\n",
    "Gertrud\n",
    "```"
   ],
   "metadata": {
    "collapsed": false
   }
  },
  {
   "cell_type": "markdown",
   "metadata": {},
   "source": [
    "### Exercise 1:\n",
    "Save your first name and last name as strings in variables called\n",
    "- ``first_name``\n",
    "- ``last_name``\n",
    "\n",
    "and add them together in a new variable called \n",
    "- ``full_name``.\n",
    "\n",
    "Then print your full name."
   ]
  },
  {
   "cell_type": "code",
   "execution_count": 7,
   "metadata": {
    "vscode": {
     "languageId": "plaintext"
    },
    "ExecuteTime": {
     "end_time": "2023-11-23T19:01:45.958840Z",
     "start_time": "2023-11-23T19:01:45.955594Z"
    }
   },
   "outputs": [
    {
     "name": "stdout",
     "output_type": "stream",
     "text": [
      "Max Mustermann\n"
     ]
    }
   ],
   "source": [
    "first_name = \"Max\"\n",
    "last_name = \"Mustermann\"\n",
    "full_name = first_name + ' ' + last_name\n",
    "print(full_name)"
   ]
  },
  {
   "cell_type": "markdown",
   "metadata": {},
   "source": [
    "### Exercise 2:\n",
    "\n",
    "Ask your right neighbour for their last name and change the variable ``last_name`` to that name. Congratulations! They just married <3\n",
    "\n",
    "Now print the full name again, but this time with the new last name."
   ]
  },
  {
   "cell_type": "code",
   "execution_count": 2,
   "metadata": {
    "vscode": {
     "languageId": "plaintext"
    },
    "ExecuteTime": {
     "end_time": "2023-11-23T18:58:35.013818Z",
     "start_time": "2023-11-23T18:58:35.012108Z"
    }
   },
   "outputs": [
    {
     "name": "stdout",
     "output_type": "stream",
     "text": [
      "Max Müller\n"
     ]
    }
   ],
   "source": [
    "last_name = \"Müller\"\n",
    "full_name = first_name + ' ' + last_name\n",
    "print(full_name)"
   ]
  },
  {
   "cell_type": "markdown",
   "metadata": {},
   "source": [
    "### Exercise 3:\n",
    "\n",
    "Now write code for the following tasks:\n",
    "\n",
    "- Save your age in a variable called ``my_age`` as a string.\n",
    "- Save the age of your mother in a variable called ``mums_age`` as a string.\n",
    "\n",
    "Add them together to see how old you are together. What goes wrong? How can you fix that?"
   ]
  },
  {
   "cell_type": "code",
   "execution_count": 3,
   "metadata": {
    "ExecuteTime": {
     "end_time": "2023-11-23T18:58:35.016400Z",
     "start_time": "2023-11-23T18:58:35.014799Z"
    }
   },
   "outputs": [
    {
     "name": "stdout",
     "output_type": "stream",
     "text": [
      "2555\n",
      "80\n"
     ]
    }
   ],
   "source": [
    "my_age = '25'\n",
    "mums_age = '55'\n",
    "print(my_age+mums_age)\n",
    "\n",
    "my_age = int(my_age)\n",
    "mums_age = int(mums_age)\n",
    "print(my_age+mums_age)"
   ]
  },
  {
   "cell_type": "markdown",
   "metadata": {},
   "source": [
    "### Exercise 4:\n",
    "\n",
    "Print out how old your mother was when she gave birth to you:"
   ]
  },
  {
   "cell_type": "code",
   "execution_count": 4,
   "metadata": {
    "ExecuteTime": {
     "end_time": "2023-11-23T18:58:35.018500Z",
     "start_time": "2023-11-23T18:58:35.016568Z"
    }
   },
   "outputs": [
    {
     "name": "stdout",
     "output_type": "stream",
     "text": [
      "30\n"
     ]
    }
   ],
   "source": [
    "difference = mums_age - my_age\n",
    "print(difference)"
   ]
  },
  {
   "cell_type": "markdown",
   "metadata": {},
   "source": [
    "### Exercise 5:\n",
    "\n",
    "You are currently standing in aldi in front of the Müslis and want to get the best price per kilogram.\n",
    "Calculate the price-per-kilogram ratio and then print them.\n",
    "\n",
    "```python\n",
    "köln_müsli_kgram = 0.5\n",
    "seitenbacher_müsli_kgram = 1\n",
    "\n",
    "köln_müsli_price = 1.99\n",
    "seitenbacher_müsli_price = 5.49\n",
    "```\n",
    "<div style=\"display: flex; align-items: flex-start\">\n",
    "  <img height=\"200\" src=\"../pictures/variables-and-datatypes/koelln.png\" style=\"width: 50%;\"/>\n",
    "  <img height=\"200\" src=\"../pictures/variables-and-datatypes/spacer.png\" style=\"width: 50%;\"/>\n",
    "  <img height=\"200\" src=\"../pictures/variables-and-datatypes/seitenbacher.png\" style=\"width: 50%;\" />\n",
    "</div>\n",
    "\n"
   ]
  },
  {
   "cell_type": "code",
   "execution_count": 5,
   "metadata": {
    "ExecuteTime": {
     "end_time": "2023-11-23T18:58:35.022256Z",
     "start_time": "2023-11-23T18:58:35.020752Z"
    }
   },
   "outputs": [
    {
     "name": "stdout",
     "output_type": "stream",
     "text": [
      "Kölln: 3.98\n",
      "Seitenbacher: 5.49\n"
     ]
    }
   ],
   "source": [
    "köln_müsli_kgram = 0.5\n",
    "seitenbacher_müsli_kgram = 1\n",
    "\n",
    "köln_müsli_price = 1.99\n",
    "seitenbacher_müsli_price = 5.49\n",
    "\n",
    "köln_ratio = köln_müsli_price / köln_müsli_kgram\n",
    "seitenbacher_ratio = seitenbacher_müsli_price / seitenbacher_müsli_kgram\n",
    "\n",
    "print('Kölln: ' + str(köln_ratio))\n",
    "print('Seitenbacher: ' + str(seitenbacher_ratio))"
   ]
  },
  {
   "cell_type": "markdown",
   "metadata": {},
   "source": [
    "### Exercise 6: \n",
    "\n",
    "# Picture of grain of rice on a chess borad !\n",
    "\n",
    "In a kingdom ruled by a generous but unsuspecting king, a clever man cunningly requested a favor. Sensing an opportunity, he asked for a grain of rice on the first square of a chessboard, doubling it for each subsequent square. Guessing the total amount will be around 2 multiplied by 64, the king agreed. As the rice was placed, its quantity grew exponentially. When the man revealed the astounding total, the king realized he had unknowingly fallen prey to the man's clever exploitation of exponential growth. A valuable lesson was learned about the consequences of granting wishes without understanding their true nature.\n",
    "\n",
    "Calculate the the number of grain of rice the king expected (2 multiplied by 64) and print that out.\n",
    "\n",
    "Then calculate 2 to the power of 64 and print it out."
   ]
  },
  {
   "cell_type": "code",
   "execution_count": 6,
   "metadata": {
    "ExecuteTime": {
     "end_time": "2023-11-23T18:58:35.024437Z",
     "start_time": "2023-11-23T18:58:35.022590Z"
    }
   },
   "outputs": [
    {
     "name": "stdout",
     "output_type": "stream",
     "text": [
      "128\n",
      "18446744073709551616\n"
     ]
    }
   ],
   "source": [
    "print(2*64)\n",
    "\n",
    "print(2**64)"
   ]
  },
  {
   "cell_type": "markdown",
   "metadata": {},
   "source": [
    "### Exercise 7:\n",
    "\n",
    "Booleans!!!"
   ]
  }
 ],
 "metadata": {
  "kernelspec": {
   "display_name": "Python 3",
   "language": "python",
   "name": "python3"
  },
  "language_info": {
   "codemirror_mode": {
    "name": "ipython",
    "version": 3
   },
   "file_extension": ".py",
   "mimetype": "text/x-python",
   "name": "python",
   "nbconvert_exporter": "python",
   "pygments_lexer": "ipython3",
   "version": "3.8.5"
  }
 },
 "nbformat": 4,
 "nbformat_minor": 2
}
