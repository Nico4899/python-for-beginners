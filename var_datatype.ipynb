{
 "cells": [
  {
   "cell_type": "markdown",
   "metadata": {},
   "source": [
    "### Exercise 1:\n",
    "Save the first name and surname of your left neighbour in this course as strings in variables called\n",
    "- ``first_name``\n",
    "- ``last_name``\n",
    "\n",
    "and add them together in a new variable called \n",
    "- ``full_name``.\n",
    "\n",
    "Then print her/his full name."
   ]
  },
  {
   "cell_type": "code",
   "execution_count": 1,
   "metadata": {
    "vscode": {
     "languageId": "plaintext"
    }
   },
   "outputs": [
    {
     "name": "stdout",
     "output_type": "stream",
     "text": [
      "Max Mustermann\n"
     ]
    }
   ],
   "source": [
    "first_name = \"Max\"\n",
    "last_name = \"Mustermann\"\n",
    "full_name = first_name + ' ' + last_name\n",
    "print(full_name)"
   ]
  },
  {
   "cell_type": "markdown",
   "metadata": {},
   "source": [
    "### Exercise 2:\n",
    "\n",
    "Ask your right neighbour how they are called and change the variable ``last_name`` to that name. Congratulations! They just married <3\n",
    "\n",
    "Now print the full name again, but this time with the new last name."
   ]
  },
  {
   "cell_type": "code",
   "execution_count": 2,
   "metadata": {
    "vscode": {
     "languageId": "plaintext"
    }
   },
   "outputs": [
    {
     "name": "stdout",
     "output_type": "stream",
     "text": [
      "Max Müller\n"
     ]
    }
   ],
   "source": [
    "last_name = \"Müller\"\n",
    "full_name = first_name + ' ' + last_name\n",
    "print(full_name)"
   ]
  },
  {
   "cell_type": "markdown",
   "metadata": {},
   "source": [
    "### Exercise 3: \n",
    "- Save your age in a variable called ``my_age`` as a string.\n",
    "- Save the age of your mother in a variable called ``mums_age`` as a string.\n",
    "\n",
    "Add them together to see how old you are together. What goes wrong? How can you fix that?"
   ]
  },
  {
   "cell_type": "code",
   "execution_count": 3,
   "metadata": {},
   "outputs": [
    {
     "name": "stdout",
     "output_type": "stream",
     "text": [
      "2555\n",
      "80\n"
     ]
    }
   ],
   "source": [
    "my_age = '25'\n",
    "mums_age = '55'\n",
    "print(my_age+mums_age)\n",
    "\n",
    "my_age = int(my_age)\n",
    "mums_age = int(mums_age)\n",
    "print(my_age+mums_age)"
   ]
  },
  {
   "cell_type": "markdown",
   "metadata": {},
   "source": [
    "### Exercise 4:\n",
    "\n"
   ]
  },
  {
   "cell_type": "markdown",
   "metadata": {},
   "source": [
    "Print out how old your mother was when she gave birth to you:"
   ]
  },
  {
   "cell_type": "code",
   "execution_count": 4,
   "metadata": {},
   "outputs": [
    {
     "name": "stdout",
     "output_type": "stream",
     "text": [
      "30\n"
     ]
    }
   ],
   "source": [
    "difference = mums_age - my_age\n",
    "print(difference)"
   ]
  },
  {
   "cell_type": "markdown",
   "metadata": {},
   "source": [
    "### Exercise 5:\n",
    "\n",
    "You are currently standing in aldi in front of the Müslis and want to get the best price per kilogram.\n",
    "Calculate the price-per-kilogram ratio and then print them.\n",
    "\n",
    "```\n",
    "köln_müsli_kgram = 0.5\n",
    "seitenbacher_müsli_kgram = 1\n",
    "\n",
    "köln_müsli_price = 3.99\n",
    "seitenbacher_müsli_price = 5.49\n",
    "```"
   ]
  },
  {
   "cell_type": "code",
   "execution_count": 11,
   "metadata": {},
   "outputs": [
    {
     "name": "stdout",
     "output_type": "stream",
     "text": [
      "Kölln: 3.98\n",
      "Seitenbacher: 5.49\n"
     ]
    }
   ],
   "source": [
    "köln_müsli_kgram = 0.5\n",
    "seitenbacher_müsli_kgram = 1\n",
    "\n",
    "köln_müsli_price = 1.99\n",
    "seitenbacher_müsli_price = 5.49\n",
    "\n",
    "köln_ratio = köln_müsli_price / köln_müsli_kgram\n",
    "seitenbacher_ratio = seitenbacher_müsli_price / seitenbacher_müsli_kgram\n",
    "\n",
    "print('Kölln: ' + str(köln_ratio))\n",
    "print('Seitenbacher: ' + str(seitenbacher_ratio))"
   ]
  },
  {
   "cell_type": "markdown",
   "metadata": {},
   "source": [
    "### Exercise 6:\n",
    "Booleans!!!"
   ]
  },
  {
   "cell_type": "code",
   "execution_count": null,
   "metadata": {},
   "outputs": [],
   "source": []
  }
 ],
 "metadata": {
  "kernelspec": {
   "display_name": "Python 3",
   "language": "python",
   "name": "python3"
  },
  "language_info": {
   "codemirror_mode": {
    "name": "ipython",
    "version": 3
   },
   "file_extension": ".py",
   "mimetype": "text/x-python",
   "name": "python",
   "nbconvert_exporter": "python",
   "pygments_lexer": "ipython3",
   "version": "3.8.5"
  }
 },
 "nbformat": 4,
 "nbformat_minor": 2
}
